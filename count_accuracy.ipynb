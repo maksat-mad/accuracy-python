{
 "cells": [
  {
   "cell_type": "code",
   "execution_count": 1,
   "id": "2dfec0f1",
   "metadata": {},
   "outputs": [],
   "source": [
    "from skimage.metrics import structural_similarity\n",
    "from skimage.transform import resize\n",
    "import cv2\n",
    "import os"
   ]
  },
  {
   "cell_type": "code",
   "execution_count": 2,
   "id": "9f96ca79",
   "metadata": {},
   "outputs": [],
   "source": [
    "def orb_sim(img1, img2):\n",
    "  orb = cv2.ORB_create()\n",
    "  kp_a, desc_a = orb.detectAndCompute(img1, None)\n",
    "  kp_b, desc_b = orb.detectAndCompute(img2, None)\n",
    "  bf = cv2.BFMatcher(cv2.NORM_HAMMING, crossCheck=True)\n",
    "  matches = bf.match(desc_a, desc_b)\n",
    "  similar_regions = [i for i in matches if i.distance < 41]  \n",
    "  if len(matches) == 0:\n",
    "    return 0\n",
    "  return len(similar_regions) / len(matches)\n",
    "\n",
    "def structural_sim(img1, img2):\n",
    "  sim, diff = structural_similarity(img1, img2, full=True)\n",
    "  return sim"
   ]
  },
  {
   "cell_type": "code",
   "execution_count": 4,
   "id": "790c4eb0",
   "metadata": {},
   "outputs": [
    {
     "name": "stdout",
     "output_type": "stream",
     "text": [
      "Baseline: Average similarity ORB = 90.16 %\n",
      "Baseline: Average similarity SSIM = 81.12 %\n"
     ]
    }
   ],
   "source": [
    "orb_sum , ssim_sum , count = 0, 0, 0\n",
    "path = \"C:\\\\Users\\\\user\\\\Desktop\\\\CSCI-494\\\\image\\\\baseline\"\n",
    "dir_list = os.listdir(path)\n",
    "for my_dir in dir_list:\n",
    "    img = []\n",
    "    for x in os.listdir(path + '\\\\' + my_dir):\n",
    "        img.append(x)\n",
    "        \n",
    "    img1 = cv2.imread(path + '\\\\' + my_dir + '\\\\' + img[0], 0)\n",
    "    img2 = cv2.imread(path + '\\\\' + my_dir + '\\\\' + img[1], 0)\n",
    "    img3 = resize(img2, (img1.shape[0], img1.shape[1]), anti_aliasing=True, preserve_range=True)\n",
    "    count += 1\n",
    "    orb_sum += orb_sim(img1, img2)\n",
    "    ssim_sum += structural_sim(img1, img3)\n",
    "    \n",
    "print(\"Baseline: Average similarity ORB = \" + str(round(orb_sum / count * 100, 2)) + ' %')\n",
    "print(\"Baseline: Average similarity SSIM = \" + str(round(ssim_sum / count * 100, 2)) + ' %')"
   ]
  },
  {
   "cell_type": "code",
   "execution_count": 5,
   "id": "be3fb4cc",
   "metadata": {},
   "outputs": [
    {
     "name": "stdout",
     "output_type": "stream",
     "text": [
      "Final: Average similarity ORB = 82.38 %\n",
      "Final: Average similarity SSIM = 85.86 %\n"
     ]
    }
   ],
   "source": [
    "orb_sum , ssim_sum , count = 0, 0, 0\n",
    "path = \"C:\\\\Users\\\\user\\\\Desktop\\\\CSCI-494\\\\image\\\\report\"\n",
    "dir_list = os.listdir(path)\n",
    "for my_dir in dir_list:\n",
    "    img = []\n",
    "    for x in os.listdir(path + '\\\\' + my_dir):\n",
    "        img.append(x)\n",
    "        \n",
    "    img1 = cv2.imread(path + '\\\\' + my_dir + '\\\\' + img[0], 0)\n",
    "    img2 = cv2.imread(path + '\\\\' + my_dir + '\\\\' + img[1], 0)\n",
    "    img3 = resize(img2, (img1.shape[0], img1.shape[1]), anti_aliasing=True, preserve_range=True)\n",
    "    count += 1\n",
    "    orb_sum += orb_sim(img1, img2)\n",
    "    ssim_sum += structural_sim(img1, img3)\n",
    "    \n",
    "print(\"Final: Average similarity ORB = \" + str(round(orb_sum / count * 100, 2)) + ' %')\n",
    "print(\"Final: Average similarity SSIM = \" + str(round(ssim_sum / count * 100, 2)) + ' %')"
   ]
  },
  {
   "cell_type": "code",
   "execution_count": null,
   "id": "329d8ea4",
   "metadata": {},
   "outputs": [],
   "source": []
  }
 ],
 "metadata": {
  "kernelspec": {
   "display_name": "Python 3 (ipykernel)",
   "language": "python",
   "name": "python3"
  },
  "language_info": {
   "codemirror_mode": {
    "name": "ipython",
    "version": 3
   },
   "file_extension": ".py",
   "mimetype": "text/x-python",
   "name": "python",
   "nbconvert_exporter": "python",
   "pygments_lexer": "ipython3",
   "version": "3.9.12"
  }
 },
 "nbformat": 4,
 "nbformat_minor": 5
}
